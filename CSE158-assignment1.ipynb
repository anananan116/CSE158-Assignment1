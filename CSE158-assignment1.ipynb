{
 "cells": [
  {
   "cell_type": "code",
   "execution_count": 661,
   "id": "ff7817c1-51fb-4a19-bfbb-82739b3950a6",
   "metadata": {},
   "outputs": [],
   "source": [
    "import gzip\n",
    "from collections import defaultdict\n",
    "import math\n",
    "import scipy.optimize\n",
    "import scipy\n",
    "from sklearn import svm\n",
    "import numpy as np\n",
    "import string\n",
    "import random\n",
    "import string\n",
    "from sklearn import linear_model\n",
    "import tensorflow as tf\n",
    "import pandas as pd\n",
    "from surprise import SVD, Reader, Dataset, SVDpp\n",
    "from surprise.model_selection import train_test_split, GridSearchCV\n",
    "import pandas as pd\n",
    "import matplotlib.pyplot as plt\n",
    "from datetime import datetime\n",
    "import implicit\n",
    "from sklearn.ensemble import RandomForestRegressor\n",
    "from sklearn.pipeline import Pipeline"
   ]
  },
  {
   "cell_type": "code",
   "execution_count": 336,
   "id": "4dfc466d-3472-4b42-80b6-43e903739226",
   "metadata": {},
   "outputs": [],
   "source": [
    "def readGz(path):\n",
    "    for l in gzip.open(path, 'rt'):\n",
    "        yield eval(l)\n",
    "def readJSON(path):\n",
    "    f = gzip.open(path, 'rt')\n",
    "    f.readline()\n",
    "    for l in f:\n",
    "        d = eval(l)\n",
    "        u = d['userID']\n",
    "        g = d['gameID']\n",
    "        yield u,g,d\n",
    "allHours = []\n",
    "allgames = set()\n",
    "itemPerUser_all = defaultdict(set)\n",
    "userPerItem_all = defaultdict(set)\n",
    "userIDs = {}\n",
    "itemIDs = {}\n",
    "all_data = []\n",
    "for l in readJSON(\"train.json.gz\"):\n",
    "    u,i = l[0],l[1]\n",
    "    allHours.append(l)\n",
    "    allgames.add(l[1])\n",
    "    all_data.append(l[2])\n",
    "    itemPerUser_all[l[0]].add(l[1])\n",
    "    userPerItem_all[l[1]].add(l[0])\n",
    "    if not u in userIDs: userIDs[u] = len(userIDs)\n",
    "    if not i in itemIDs: itemIDs[i] = len(itemIDs)\n",
    "nUsers,nItems = len(userIDs),len(itemIDs)\n"
   ]
  },
  {
   "cell_type": "code",
   "execution_count": 636,
   "id": "41411c9a-8821-48c1-b52d-234570f66518",
   "metadata": {},
   "outputs": [],
   "source": [
    "hoursTrain = allHours[:155000]\n",
    "hoursTrain2 = allHours[155000:175000]\n",
    "hoursValid = allHours[155000:]\n",
    "user_hours = defaultdict(list)\n",
    "item_hours = defaultdict(list)\n",
    "itemPerUser = defaultdict(set)\n",
    "userPerItem = defaultdict(set)\n",
    "gameCount = defaultdict(int)\n",
    "totalPlayed = 0\n",
    "interactions = []\n",
    "for d in allHours:\n",
    "    u,i = d[0],d[1]\n",
    "    user_hours[u].append(d[2])\n",
    "    item_hours[i].append(d[2])\n",
    "    gameCount[i] += 1\n",
    "    totalPlayed += 1\n",
    "for d in hoursTrain: \n",
    "    u,i = d[0],d[1]\n",
    "    itemPerUser[u].add(i)\n",
    "    userPerItem[i].add(u)\n",
    "    interactions.append((u,i,1))\n",
    "for u in user_hours:\n",
    "    user_hours[u].sort(key=lambda x: x['date'])\n",
    "    \n",
    "for i in item_hours:\n",
    "    item_hours[i].sort(key=lambda x: x['date'])"
   ]
  },
  {
   "cell_type": "code",
   "execution_count": 637,
   "id": "5d91b9be-047d-4711-85b1-228a47cba7ef",
   "metadata": {},
   "outputs": [],
   "source": [
    "##################################################\n",
    "# Play prediction                                #\n",
    "##################################################"
   ]
  },
  {
   "cell_type": "code",
   "execution_count": 638,
   "id": "28da1435-6549-489b-b06e-96090a7294df",
   "metadata": {},
   "outputs": [
    {
     "data": {
      "text/plain": [
       "39998"
      ]
     },
     "execution_count": 638,
     "metadata": {},
     "output_type": "execute_result"
    }
   ],
   "source": [
    "items = list(itemIDs.keys())\n",
    "allgames = list(allgames)\n",
    "def randomGame():\n",
    "    return allgames[random.randint(0, len(allgames)) - 1]\n",
    "simlulated_vali = {}\n",
    "for d in hoursValid:\n",
    "    simlulated_vali[(d[0], d[1])] = 1\n",
    "    game = randomGame()\n",
    "    while(game in itemPerUser_all[d[0]] or (d[0], game) in simlulated_vali.keys()):\n",
    "        game = randomGame()\n",
    "    simlulated_vali[(d[0], game)] = 0\n",
    "\n",
    "simlulated_train2 = {}\n",
    "for d in hoursTrain2:\n",
    "    simlulated_train2[(d[0], d[1])] = 1\n",
    "    game = randomGame()\n",
    "    while(game in itemPerUser_all[d[0]] or (d[0], game) in simlulated_train2.keys()):\n",
    "        game = randomGame()\n",
    "    simlulated_train2[(d[0], game)] = 0\n",
    "len(simlulated_train2)"
   ]
  },
  {
   "cell_type": "code",
   "execution_count": 639,
   "id": "b3de13ae-c25b-498a-9b41-04f3f3388cb8",
   "metadata": {},
   "outputs": [],
   "source": [
    "def key_to_IUlist(keys):\n",
    "    I = []\n",
    "    U = []\n",
    "    for key in keys:\n",
    "        if (key[0] not in userIDs.keys()):\n",
    "            U.append(0)\n",
    "            print('!!')\n",
    "        else:\n",
    "            U.append(userIDs[key[0]])\n",
    "        if (key[1] not in itemIDs.keys()):\n",
    "            I.append(0)\n",
    "            print('!!')\n",
    "        else:\n",
    "            I.append(itemIDs[key[1]])\n",
    "        \n",
    "    return U,I\n",
    "testU,testI = key_to_IUlist(simlulated_vali.keys())"
   ]
  },
  {
   "cell_type": "code",
   "execution_count": 640,
   "id": "886f2c89-7cb4-4a15-9898-00c4f12e8f74",
   "metadata": {},
   "outputs": [],
   "source": [
    "class BPRbatch(tf.keras.Model):\n",
    "    def __init__(self, K, lamb, lamb2):\n",
    "        super(BPRbatch, self).__init__()\n",
    "        # Initialize variables\n",
    "        self.betaI = tf.Variable(tf.random.normal([len(itemIDs)],stddev=0.001))\n",
    "        self.gammaU = tf.Variable(tf.random.normal([len(userIDs),K],stddev=0.001))\n",
    "        self.gammaI = tf.Variable(tf.random.normal([len(itemIDs),K],stddev=0.001))\n",
    "        # Regularization coefficient\n",
    "        self.lamb = lamb\n",
    "        self.lamb2 = lamb2\n",
    "\n",
    "    # Prediction for a single instance\n",
    "    def predict(self, u, i):\n",
    "        p = self.betaI[i] + tf.tensordot(self.gammaU[u], self.gammaI[i], 1)\n",
    "        return p\n",
    "\n",
    "    # Regularizer\n",
    "    def reg(self):\n",
    "        return self.lamb * (tf.nn.l2_loss(self.betaI))/10 +\\\n",
    "               self.lamb2* (tf.nn.l2_loss(self.gammaU) +\\\n",
    "                            tf.nn.l2_loss(self.gammaI))/10\n",
    "    \n",
    "    def score(self, sampleU, sampleI):\n",
    "        u = tf.convert_to_tensor(sampleU, dtype=tf.int32)\n",
    "        i = tf.convert_to_tensor(sampleI, dtype=tf.int32)\n",
    "        beta_i = tf.nn.embedding_lookup(self.betaI, i)\n",
    "        gamma_u = tf.nn.embedding_lookup(self.gammaU, u)\n",
    "        gamma_i = tf.nn.embedding_lookup(self.gammaI, i)\n",
    "        x_ui = beta_i + tf.reduce_sum(tf.multiply(gamma_u, gamma_i), 1)\n",
    "        return x_ui\n",
    "\n",
    "    def call(self, sampleU, sampleI, sampleJ):\n",
    "        x_ui = self.score(sampleU, sampleI)\n",
    "        x_uj = self.score(sampleU, sampleJ)\n",
    "        return -tf.reduce_mean(tf.math.log(tf.math.sigmoid(x_ui - x_uj)))"
   ]
  },
  {
   "cell_type": "code",
   "execution_count": 641,
   "id": "514043a7-97a8-425e-9194-dc09db060249",
   "metadata": {},
   "outputs": [],
   "source": [
    "def trainingStepBPR(model, interactions):\n",
    "    Nsamples = 50000\n",
    "    with tf.GradientTape() as tape:\n",
    "        sampleU, sampleI, sampleJ = [], [], []\n",
    "        for _ in range(Nsamples):\n",
    "            u,i,_ = random.choice(interactions) # positive sample\n",
    "            j = random.choice(items) # negative sample\n",
    "            while j in itemPerUser_all[u]:\n",
    "                j = random.choice(items)\n",
    "            sampleU.append(userIDs[u])\n",
    "            sampleI.append(itemIDs[i])\n",
    "            sampleJ.append(itemIDs[j])\n",
    "\n",
    "        loss = model(sampleU,sampleI,sampleJ)\n",
    "        loss += model.reg()\n",
    "    gradients = tape.gradient(loss, model.trainable_variables)\n",
    "    optimizer.apply_gradients((grad, var) for\n",
    "                              (grad, var) in zip(gradients, model.trainable_variables)\n",
    "                              if grad is not None)\n",
    "    return loss.numpy()"
   ]
  },
  {
   "cell_type": "code",
   "execution_count": 742,
   "id": "db906068-eb8d-4b47-bc65-eac55dccc860",
   "metadata": {},
   "outputs": [
    {
     "name": "stdout",
     "output_type": "stream",
     "text": [
      "iteration 10, objective = 0.6087601\n",
      "9 0.5\n",
      "iteration 20, objective = 0.52873313\n",
      "19 0.6858842942147108\n",
      "iteration 30, objective = 0.511766\n",
      "29 0.6946597329866493\n",
      "iteration 40, objective = 0.49955523\n",
      "39 0.6963598179908995\n",
      "iteration 50, objective = 0.4935807\n",
      "49 0.6984849242462123\n",
      "iteration 60, objective = 0.48529798\n",
      "59 0.7042102105105256\n",
      "iteration 70, objective = 0.47861168\n",
      "69 0.7098104905245263\n",
      "iteration 80, objective = 0.4750282\n",
      "79 0.7122606130306516\n",
      "iteration 90, objective = 0.4709122\n",
      "89 0.7124606230311515\n",
      "iteration 100, objective = 0.46832374\n",
      "99 0.715810790539527\n",
      "iteration 110, objective = 0.46748367\n",
      "109 0.7179108955447773\n",
      "iteration 120, objective = 0.46423542\n",
      "119 0.7178608930446523\n",
      "iteration 130, objective = 0.46218514\n",
      "129 0.7197609880494025\n",
      "iteration 140, objective = 0.4615872\n",
      "139 0.7196859842992149\n",
      "iteration 150, objective = 0.46054292\n",
      "149 0.719885994299715\n",
      "iteration 160, objective = 0.46174118\n",
      "159 0.7187359367968399\n",
      "iteration 170, objective = 0.46190444\n",
      "169 0.7197109855492775\n",
      "iteration 180, objective = 0.45931128\n",
      "179 0.7207110355517776\n",
      "iteration 190, objective = 0.46376508\n",
      "189 0.7209360468023401\n",
      "iteration 200, objective = 0.45822138\n",
      "199 0.7219610980549027\n",
      "iteration 210, objective = 0.46030188\n",
      "209 0.7216110805540277\n",
      "iteration 220, objective = 0.45928633\n",
      "219 0.7239361968098404\n",
      "iteration 230, objective = 0.457027\n",
      "229 0.7240362018100905\n",
      "iteration 240, objective = 0.4565646\n",
      "239 0.7252612630631532\n",
      "iteration 250, objective = 0.45691323\n",
      "249 0.7253612680634032\n",
      "iteration 260, objective = 0.46152607\n",
      "259 0.7263863193159658\n",
      "iteration 270, objective = 0.4571801\n",
      "269 0.7260363018150907\n",
      "iteration 280, objective = 0.45653826\n",
      "279 0.7258612930646532\n",
      "iteration 290, objective = 0.4587475\n",
      "289 0.7248612430621532\n",
      "iteration 300, objective = 0.45937595\n",
      "299 0.7253612680634032\n"
     ]
    }
   ],
   "source": [
    "optimizer = tf.keras.optimizers.Adam(0.03)\n",
    "modelBPR = BPRbatch(10, 0.00013, 0.00018)\n",
    "for i in range(300):\n",
    "    obj = trainingStepBPR(modelBPR, interactions)\n",
    "    if (i % 10 == 9):\n",
    "        print(\"iteration \" + str(i+1) + \", objective = \" + str(obj))\n",
    "        result = modelBPR.score(testU, testI)\n",
    "        pred_played = {x:(lambda x: 1 if x > 0.5 else 0)(y) for x,y in zip(simlulated_vali.keys(), result)}\n",
    "        accuracy = sum([pred_played[x] == simlulated_vali[x] for x in pred_played.keys()])/len(pred_played)\n",
    "        print(i, accuracy)"
   ]
  },
  {
   "cell_type": "code",
   "execution_count": 643,
   "id": "6d28edd6-1eba-4a5c-b4c8-6e392b0e337c",
   "metadata": {},
   "outputs": [],
   "source": [
    "result_np = result.numpy()\n",
    "pred_played = {x:y for x,y in zip(simlulated_vali.keys(), result_np)}"
   ]
  },
  {
   "cell_type": "code",
   "execution_count": 644,
   "id": "02bfc791-8377-4e57-842d-48b974c5daea",
   "metadata": {},
   "outputs": [
    {
     "name": "stdout",
     "output_type": "stream",
     "text": [
      "299 0.7273113655682785\n"
     ]
    }
   ],
   "source": [
    "pred_played = {x:(lambda x: 1 if x > 0.5 else 0)(y) for x,y in zip(simlulated_vali.keys(), result)}\n",
    "accuracy = sum([pred_played[x] == simlulated_vali[x] for x in pred_played.keys()])/len(pred_played)\n",
    "print(i, accuracy)"
   ]
  },
  {
   "cell_type": "code",
   "execution_count": 645,
   "id": "c067bef6-5750-4a7e-9b74-ad5b981cbf11",
   "metadata": {},
   "outputs": [],
   "source": [
    "def cosine(s1, s2):\n",
    "    numer = len(s1.intersection(s2))\n",
    "    denom = math.sqrt(len(s1)) * math.sqrt(len(s2))\n",
    "    if denom == 0:\n",
    "        return 0\n",
    "    return numer / denom"
   ]
  },
  {
   "cell_type": "code",
   "execution_count": 646,
   "id": "97ab7f17-576d-41e0-ac98-2ea7c259eb7d",
   "metadata": {},
   "outputs": [],
   "source": [
    "def cosine_simi(input_pairs):\n",
    "    result_played = []\n",
    "    for pair in input_pairs:\n",
    "        u = pair[0]\n",
    "        i = pair[1]\n",
    "        items = itemPerUser[u]\n",
    "        similarities_i = []\n",
    "        for item in items:\n",
    "            if item != i:\n",
    "                similarities_i.append(cosine(userPerItem[item], userPerItem[i]))\n",
    "        users = userPerItem[i]\n",
    "        similarities_u = []\n",
    "        for user in users:\n",
    "            if user != u:\n",
    "                similarities_u.append(cosine(itemPerUser[user], itemPerUser[u]))\n",
    "        similarities_i.sort(reverse = True)\n",
    "        similarities_u.sort(reverse = True)\n",
    "        result = []\n",
    "        if (len(similarities_i) == 0):\n",
    "            result.append(0.01)\n",
    "            result.append(0.01)\n",
    "        else:\n",
    "            result.append(sum(similarities_i)/len(similarities_i))\n",
    "            result.append(similarities_i[0])\n",
    "        if (len(similarities_u) == 0):\n",
    "            result.append(0.01)\n",
    "            result.append(0.01)\n",
    "        else:\n",
    "            result.append(sum(similarities_u)/len(similarities_u))\n",
    "            result.append(similarities_u[0])\n",
    "        result_played.append(result)\n",
    "    return result_played"
   ]
  },
  {
   "cell_type": "code",
   "execution_count": 701,
   "id": "29283ee0-f100-4e42-afb9-68e6d20cc824",
   "metadata": {},
   "outputs": [],
   "source": [
    "def pipline_wp(input_pairs):\n",
    "    simis = cosine_simi(input_pairs)\n",
    "    bpr_result = modelBPR.score(*key_to_IUlist(input_pairs)).numpy()\n",
    "    times_played = [gameCount[x[1]]/100 for x in input_pairs]\n",
    "    X = [[x, *y,z, 1] for x,y,z in zip(bpr_result, simis, times_played)]\n",
    "    return X"
   ]
  },
  {
   "cell_type": "code",
   "execution_count": 743,
   "id": "20b1cc1a-4ca5-4a03-bd77-636125f82241",
   "metadata": {},
   "outputs": [],
   "source": [
    "X = pipline_wp(simlulated_train2)\n",
    "Y = list(simlulated_train2.values())"
   ]
  },
  {
   "cell_type": "code",
   "execution_count": 744,
   "id": "475178c1-eda9-4a88-9ade-0cf12bd14345",
   "metadata": {},
   "outputs": [
    {
     "data": {
      "text/html": [
       "<style>#sk-container-id-49 {color: black;}#sk-container-id-49 pre{padding: 0;}#sk-container-id-49 div.sk-toggleable {background-color: white;}#sk-container-id-49 label.sk-toggleable__label {cursor: pointer;display: block;width: 100%;margin-bottom: 0;padding: 0.3em;box-sizing: border-box;text-align: center;}#sk-container-id-49 label.sk-toggleable__label-arrow:before {content: \"▸\";float: left;margin-right: 0.25em;color: #696969;}#sk-container-id-49 label.sk-toggleable__label-arrow:hover:before {color: black;}#sk-container-id-49 div.sk-estimator:hover label.sk-toggleable__label-arrow:before {color: black;}#sk-container-id-49 div.sk-toggleable__content {max-height: 0;max-width: 0;overflow: hidden;text-align: left;background-color: #f0f8ff;}#sk-container-id-49 div.sk-toggleable__content pre {margin: 0.2em;color: black;border-radius: 0.25em;background-color: #f0f8ff;}#sk-container-id-49 input.sk-toggleable__control:checked~div.sk-toggleable__content {max-height: 200px;max-width: 100%;overflow: auto;}#sk-container-id-49 input.sk-toggleable__control:checked~label.sk-toggleable__label-arrow:before {content: \"▾\";}#sk-container-id-49 div.sk-estimator input.sk-toggleable__control:checked~label.sk-toggleable__label {background-color: #d4ebff;}#sk-container-id-49 div.sk-label input.sk-toggleable__control:checked~label.sk-toggleable__label {background-color: #d4ebff;}#sk-container-id-49 input.sk-hidden--visually {border: 0;clip: rect(1px 1px 1px 1px);clip: rect(1px, 1px, 1px, 1px);height: 1px;margin: -1px;overflow: hidden;padding: 0;position: absolute;width: 1px;}#sk-container-id-49 div.sk-estimator {font-family: monospace;background-color: #f0f8ff;border: 1px dotted black;border-radius: 0.25em;box-sizing: border-box;margin-bottom: 0.5em;}#sk-container-id-49 div.sk-estimator:hover {background-color: #d4ebff;}#sk-container-id-49 div.sk-parallel-item::after {content: \"\";width: 100%;border-bottom: 1px solid gray;flex-grow: 1;}#sk-container-id-49 div.sk-label:hover label.sk-toggleable__label {background-color: #d4ebff;}#sk-container-id-49 div.sk-serial::before {content: \"\";position: absolute;border-left: 1px solid gray;box-sizing: border-box;top: 0;bottom: 0;left: 50%;z-index: 0;}#sk-container-id-49 div.sk-serial {display: flex;flex-direction: column;align-items: center;background-color: white;padding-right: 0.2em;padding-left: 0.2em;position: relative;}#sk-container-id-49 div.sk-item {position: relative;z-index: 1;}#sk-container-id-49 div.sk-parallel {display: flex;align-items: stretch;justify-content: center;background-color: white;position: relative;}#sk-container-id-49 div.sk-item::before, #sk-container-id-49 div.sk-parallel-item::before {content: \"\";position: absolute;border-left: 1px solid gray;box-sizing: border-box;top: 0;bottom: 0;left: 50%;z-index: -1;}#sk-container-id-49 div.sk-parallel-item {display: flex;flex-direction: column;z-index: 1;position: relative;background-color: white;}#sk-container-id-49 div.sk-parallel-item:first-child::after {align-self: flex-end;width: 50%;}#sk-container-id-49 div.sk-parallel-item:last-child::after {align-self: flex-start;width: 50%;}#sk-container-id-49 div.sk-parallel-item:only-child::after {width: 0;}#sk-container-id-49 div.sk-dashed-wrapped {border: 1px dashed gray;margin: 0 0.4em 0.5em 0.4em;box-sizing: border-box;padding-bottom: 0.4em;background-color: white;}#sk-container-id-49 div.sk-label label {font-family: monospace;font-weight: bold;display: inline-block;line-height: 1.2em;}#sk-container-id-49 div.sk-label-container {text-align: center;}#sk-container-id-49 div.sk-container {/* jupyter's `normalize.less` sets `[hidden] { display: none; }` but bootstrap.min.css set `[hidden] { display: none !important; }` so we also need the `!important` here to be able to override the default hidden behavior on the sphinx rendered scikit-learn.org. See: https://github.com/scikit-learn/scikit-learn/issues/21755 */display: inline-block !important;position: relative;}#sk-container-id-49 div.sk-text-repr-fallback {display: none;}</style><div id=\"sk-container-id-49\" class=\"sk-top-container\"><div class=\"sk-text-repr-fallback\"><pre>LogisticRegression(fit_intercept=False)</pre><b>In a Jupyter environment, please rerun this cell to show the HTML representation or trust the notebook. <br />On GitHub, the HTML representation is unable to render, please try loading this page with nbviewer.org.</b></div><div class=\"sk-container\" hidden><div class=\"sk-item\"><div class=\"sk-estimator sk-toggleable\"><input class=\"sk-toggleable__control sk-hidden--visually\" id=\"sk-estimator-id-57\" type=\"checkbox\" checked><label for=\"sk-estimator-id-57\" class=\"sk-toggleable__label sk-toggleable__label-arrow\">LogisticRegression</label><div class=\"sk-toggleable__content\"><pre>LogisticRegression(fit_intercept=False)</pre></div></div></div></div></div>"
      ],
      "text/plain": [
       "LogisticRegression(fit_intercept=False)"
      ]
     },
     "execution_count": 744,
     "metadata": {},
     "output_type": "execute_result"
    }
   ],
   "source": [
    "model = linear_model.LogisticRegression(fit_intercept=False)\n",
    "model.fit(X,Y)"
   ]
  },
  {
   "cell_type": "code",
   "execution_count": 745,
   "id": "13e00eb5-cfaa-476a-8cd2-d9a6b67bac89",
   "metadata": {},
   "outputs": [],
   "source": [
    "x_pred = pipline_wp(simlulated_vali)\n",
    "y_pred = model.predict(x_pred)"
   ]
  },
  {
   "cell_type": "code",
   "execution_count": 746,
   "id": "1e719aaa-3143-4ccc-ba81-e940f631482b",
   "metadata": {},
   "outputs": [
    {
     "data": {
      "text/plain": [
       "0.7278113905695285"
      ]
     },
     "execution_count": 746,
     "metadata": {},
     "output_type": "execute_result"
    }
   ],
   "source": [
    "result = [x==y for x,y in zip(y_pred, simlulated_vali.values())]\n",
    "sum(result)/len(result)"
   ]
  },
  {
   "cell_type": "code",
   "execution_count": 747,
   "id": "f5b84350-368d-4605-8027-5cef7613ea16",
   "metadata": {},
   "outputs": [
    {
     "name": "stdout",
     "output_type": "stream",
     "text": [
      "!!\n",
      "!!\n"
     ]
    }
   ],
   "source": [
    "pred_x = []\n",
    "for l in open(\"pairs_Played.csv\"):\n",
    "    if l.startswith(\"userID\"):\n",
    "        continue\n",
    "    u,i = l.strip().split(',')\n",
    "    pred_x.append((u,i))\n",
    "x = pipline_wp(pred_x)"
   ]
  },
  {
   "cell_type": "code",
   "execution_count": 748,
   "id": "5f74f0d7-4ed1-4c7e-99f6-a94abf9131e2",
   "metadata": {},
   "outputs": [
    {
     "data": {
      "text/plain": [
       "array([ 1.20809417, -0.4204679 , -0.7810907 , ...,  1.52428368,\n",
       "       -0.43916725,  1.66613393])"
      ]
     },
     "execution_count": 748,
     "metadata": {},
     "output_type": "execute_result"
    }
   ],
   "source": [
    "pred_val = model.decision_function(x)\n",
    "pred_val"
   ]
  },
  {
   "cell_type": "code",
   "execution_count": 749,
   "id": "72253392-2de6-4c19-863c-cefd05189e71",
   "metadata": {},
   "outputs": [],
   "source": [
    "def half_positive(keys, pred_values):\n",
    "    pred_map = {x:y for x,y in zip(keys, pred_values)}\n",
    "    result = {}\n",
    "    itemPerUser_test = defaultdict(list)\n",
    "    for pair in keys:\n",
    "        u,i = pair[0], pair[1]\n",
    "        itemPerUser_test[u].append((i, pred_map[(u,i)]))\n",
    "    for u in itemPerUser_test:\n",
    "        pred_u = itemPerUser_test[u]\n",
    "        pred_u = sorted(pred_u, key = lambda x: x[1], reverse = True)\n",
    "        thres = pred_u[len(pred_u)//2][1]\n",
    "        for ui in pred_u:\n",
    "            if (ui[1] > thres):\n",
    "                result[(u,ui[0])] = 1\n",
    "            else:\n",
    "                result[(u,ui[0])] = 0\n",
    "    return result\n",
    "final_pred = half_positive(pred_x, pred_val)"
   ]
  },
  {
   "cell_type": "code",
   "execution_count": 752,
   "id": "5fd8b093-cb5e-4fa6-acbd-3a3d02c85e05",
   "metadata": {},
   "outputs": [],
   "source": [
    "predictions = open(\"predictions_Played.csv\", 'w')\n",
    "predictions.write('userID,gameID,prediction\\n')\n",
    "for x_ui,pred in zip(pred_x, final_pred):\n",
    "    predictions.write(x_ui[0] + ',' + x_ui[1] + \",\"+str(final_pred[(x_ui[0], x_ui[1])])+\"\\n\")\n",
    "predictions.close()"
   ]
  },
  {
   "cell_type": "code",
   "execution_count": 753,
   "id": "d685fcd9-404d-4c14-b1f2-72c56b2b8f05",
   "metadata": {},
   "outputs": [],
   "source": [
    "trainHours = [r[2]['hours_transformed'] for r in allHours]\n",
    "trainData = [(r[0], r[1], r[2]['hours_transformed']) for r in hoursTrain]\n",
    "valiData = [(r[0], r[1], r[2]['hours_transformed']) for r in hoursValid]\n",
    "trainData_all = [(r[0], r[1], r[2]['hours_transformed']) for r in allHours]\n",
    "mu = [sum(trainHours) * 1.0 / len(trainHours)]\n",
    "vali_input_i = [itemIDs[x[1]] for x in hoursValid]\n",
    "vali_input_u = [userIDs[x[0]] for x in hoursValid]\n",
    "vali_y = np.array([x[2]['hours_transformed'] for x in hoursValid])"
   ]
  },
  {
   "cell_type": "code",
   "execution_count": null,
   "id": "d1e592a4-0c63-401e-9a30-c939853d8dfb",
   "metadata": {},
   "outputs": [],
   "source": [
    "df = pd.DataFrame(trainData, columns=['userID', 'itemID', 'rating'])\n",
    "reader = Reader(rating_scale=(min(trainHours), max(trainHours)))\n",
    "data = Dataset.load_from_df(df[['userID', 'itemID', 'rating']], reader)"
   ]
  },
  {
   "cell_type": "code",
   "execution_count": null,
   "id": "7206476c-88f6-4cf5-8774-d2f0b7c81f2e",
   "metadata": {},
   "outputs": [],
   "source": [
    "param_grid = {\n",
    "    'n_factors': [150],\n",
    "    'lr_all': [0.003],\n",
    "    'reg_bu': [0.4],\n",
    "    'reg_bi': [0.003],\n",
    "    'reg_pu': [0.47],\n",
    "    'reg_qi': [0.4],\n",
    "    'reg_yj': [0.02],\n",
    "    'n_epochs': [75]\n",
    "}\n",
    "gs = GridSearchCV(SVDpp, param_grid, measures=['mse'], cv=36, joblib_verbose = 10, n_jobs=-1)\n",
    "gs.fit(data)\n",
    "# print(gs.best_score['mse'])\n",
    "# print(gs.best_params['mse'])"
   ]
  },
  {
   "cell_type": "code",
   "execution_count": null,
   "id": "0e004630-52e6-40c8-9065-ca5036bad73d",
   "metadata": {},
   "outputs": [],
   "source": [
    "df = pd.DataFrame(trainData_all, columns=['userID', 'itemID', 'rating'])\n",
    "reader = Reader(rating_scale=(min(trainHours), max(trainHours)))\n",
    "data = Dataset.load_from_df(df[['userID', 'itemID', 'rating']], reader)\n",
    "df_vali = pd.DataFrame(valiData, columns=['userID', 'itemID', 'rating'])\n",
    "data_vali = Dataset.load_from_df(df_vali[['userID', 'itemID', 'rating']], reader)\n",
    "trainset = data.build_full_trainset()\n",
    "model = SVDpp(n_factors= 150, lr_all=0.003, reg_bu=0.4, reg_bi= 0.003, reg_pu= 0.47, reg_qi= 0.4,reg_yj=0.02, n_epochs= 75)\n",
    "model.fit(trainset)"
   ]
  },
  {
   "cell_type": "code",
   "execution_count": null,
   "id": "6bd8e64a-fd53-4b35-b2d8-8216b8a0f865",
   "metadata": {},
   "outputs": [],
   "source": [
    "predictions = open(\"predictions_Hours.csv\", 'w')\n",
    "for l in open(\"pairs_Hours.csv\"):\n",
    "    if l.startswith(\"userID\"):\n",
    "        predictions.write(l)\n",
    "        continue\n",
    "    u,i = l.strip().split(',')\n",
    "    pred = str(model.predict(u, i).est)\n",
    "    predictions.write(u + ',' + i + ',' + pred + '\\n')\n",
    "\n",
    "predictions.close()"
   ]
  },
  {
   "cell_type": "code",
   "execution_count": null,
   "id": "55771c7e-a285-4569-9dcf-da3464638be4",
   "metadata": {},
   "outputs": [],
   "source": []
  }
 ],
 "metadata": {
  "kernelspec": {
   "display_name": "Python 3 (ipykernel)",
   "language": "python",
   "name": "python3"
  },
  "language_info": {
   "codemirror_mode": {
    "name": "ipython",
    "version": 3
   },
   "file_extension": ".py",
   "mimetype": "text/x-python",
   "name": "python",
   "nbconvert_exporter": "python",
   "pygments_lexer": "ipython3",
   "version": "3.11.0rc1"
  }
 },
 "nbformat": 4,
 "nbformat_minor": 5
}
